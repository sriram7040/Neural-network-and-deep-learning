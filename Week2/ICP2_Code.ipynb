{
  "nbformat": 4,
  "nbformat_minor": 0,
  "metadata": {
    "colab": {
      "provenance": []
    },
    "kernelspec": {
      "name": "python3",
      "display_name": "Python 3"
    },
    "language_info": {
      "name": "python"
    }
  },
  "cells": [
    {
      "cell_type": "code",
      "execution_count": 13,
      "metadata": {
        "colab": {
          "base_uri": "https://localhost:8080/"
        },
        "id": "3XjLz8jzFG6T",
        "outputId": "c332723e-d2bc-42d6-d3e3-914d3201cde5"
      },
      "outputs": [
        {
          "output_type": "stream",
          "name": "stdout",
          "text": [
            "4\n",
            "282780.6666666667\n"
          ]
        }
      ],
      "source": [
        "class Employee:\n",
        "  count=0\n",
        "  def __init__(self,name,family,salary,department):\n",
        "        self.name = name\n",
        "        self.family = family\n",
        "        self.salary = salary\n",
        "        self.department = department\n",
        "        Employee.count+=1\n",
        "  def average_salary(employees):\n",
        "    totalSalary=sum(emp.salary for emp in employees)\n",
        "    return totalSalary/len(employees) if employees else 0\n",
        "class fulltimeEmployee(Employee):\n",
        "  def _init_(self,name,family,salary,department):\n",
        "    super()._init_(name, family, salary, department)\n",
        "emp1 = Employee(\"sriram\",\"lakkireddy\",90890,\"IT\")\n",
        "emp2 = Employee(\"mani\",\"aru\",78909,'Financial')\n",
        "fulltime_emp1=fulltimeEmployee(\"vani\",\"chin\",678543,\"Tech\")\n",
        "fulltime_emp2=fulltimeEmployee(\"sai\",\"deep\",87643,\"HR\")\n",
        "emps=[emp1,emp2,fulltime_emp1]\n",
        "print(Employee.count)\n",
        "print(Employee.average_salary(emps))\n"
      ]
    },
    {
      "cell_type": "code",
      "source": [
        "import numpy as np\n",
        "vector=np.random.uniform(6,7,20)\n",
        "array=vector.reshape(4,5)\n",
        "array[np.arange(4),array.argmax(axis=1)]=0\n",
        "print(array)"
      ],
      "metadata": {
        "colab": {
          "base_uri": "https://localhost:8080/"
        },
        "id": "ZjHZdrIuAVUR",
        "outputId": "a03a14c4-b577-4c3e-e12d-d45e1d19a704"
      },
      "execution_count": 16,
      "outputs": [
        {
          "output_type": "stream",
          "name": "stdout",
          "text": [
            "[[6.33773689 6.59728773 6.62076278 0.         6.22331329]\n",
            " [6.55597964 0.         6.33396004 6.71391505 6.21698696]\n",
            " [6.80811293 6.2291844  6.54606145 6.69399656 0.        ]\n",
            " [6.33095765 6.4616452  6.44789043 0.         6.24496134]]\n"
          ]
        }
      ]
    },
    {
      "cell_type": "markdown",
      "source": [
        "Video Presentation:\n",
        "https://drive.google.com/file/d/1Lm4z518tVj8sj9P4iH3bvohUeUWCMkLb/view?usp=drive_link"
      ],
      "metadata": {
        "id": "EQIeKjvDGCiN"
      }
    }
  ]
}