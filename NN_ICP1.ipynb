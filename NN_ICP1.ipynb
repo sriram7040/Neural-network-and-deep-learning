{
  "nbformat": 4,
  "nbformat_minor": 0,
  "metadata": {
    "colab": {
      "provenance": []
    },
    "kernelspec": {
      "name": "python3",
      "display_name": "Python 3"
    },
    "language_info": {
      "name": "python"
    }
  },
  "cells": [
    {
      "cell_type": "code",
      "execution_count": 14,
      "metadata": {
        "colab": {
          "base_uri": "https://localhost:8080/"
        },
        "id": "J1k8D5f8PBpu",
        "outputId": "4bf8a261-dde1-46ce-e085-8994d401f545"
      },
      "outputs": [
        {
          "output_type": "stream",
          "name": "stdout",
          "text": [
            "Enter your first name: Sriram Reddy\n",
            "Enter your last name: Lakkireddy\n",
            "Full Name: Sriram Reddy Lakkireddy\n",
            "Alternate characters in your full name: Sia ed akrdy\n"
          ]
        }
      ],
      "source": [
        "def get_fullname(first_name, last_name):\n",
        "    # Concatenate the first name and last name with a space in between\n",
        "    return first_name + \" \" + last_name\n",
        "\n",
        "def alternate_characters(input_string):\n",
        "    # Extract every second character from the input string\n",
        "    return input_string[::2]\n",
        "\n",
        "# Prompt the user for their first name\n",
        "first_name = input(\"Enter your first name: \")\n",
        "\n",
        "# Prompt the user for their last name\n",
        "last_name = input(\"Enter your last name: \")\n",
        "\n",
        "# Combine the first and last name to form the full name\n",
        "full_name = get_fullname(first_name, last_name)\n",
        "\n",
        "# Display the full name to the user\n",
        "print(\"Full Name: \" + full_name)\n",
        "\n",
        "# Display the full name with every alternate character\n",
        "print(\"Alternate characters in your full name: \" + alternate_characters(full_name))"
      ]
    },
    {
      "cell_type": "code",
      "source": [
        "def count_words(text):\n",
        "    # Initialize an empty dictionary to store word frequencies\n",
        "    word_frequencies = {}\n",
        "\n",
        "    # Split the input text into individual words\n",
        "    words = text.split()\n",
        "\n",
        "    # Count the occurrences of each word\n",
        "    for word in words:\n",
        "        if word in word_frequencies:\n",
        "            word_frequencies[word] += 1\n",
        "        else:\n",
        "            word_frequencies[word] = 1\n",
        "\n",
        "    # Return the dictionary containing word counts\n",
        "    return word_frequencies\n",
        "\n",
        "# Read the content of the input file\n",
        "with open('input.txt', 'r') as file:\n",
        "    input_text = file.read()\n",
        "\n",
        "# Compute word counts for the text\n",
        "word_counts = count_words(input_text)\n",
        "\n",
        "# Prepare the formatted output\n",
        "output_text = input_text + \"\\nWord Count:\\n\"\n",
        "output_text += str(word_counts).replace(\"{\", \"\").replace(\"}\", \"\")\n",
        "output_text = output_text.replace(\"'\", \"\")\n",
        "output_text = output_text.replace(\", \", \"\\n\")\n",
        "\n",
        "# Print the final processed output\n",
        "print(output_text)\n",
        "\n",
        "# Write the processed output to a new file\n",
        "with open('output.txt', 'w') as output_file:\n",
        "    output_file.write(output_text)"
      ],
      "metadata": {
        "colab": {
          "base_uri": "https://localhost:8080/"
        },
        "id": "H_419ZZMQpiC",
        "outputId": "ccc8b725-fc5c-4463-a58c-a6b7a6b4c5fa"
      },
      "execution_count": 16,
      "outputs": [
        {
          "output_type": "stream",
          "name": "stdout",
          "text": [
            "Python Course\n",
            "Deep Learning Course\n",
            "Word Count:\n",
            "Python: 1\n",
            "Course: 2\n",
            "Deep: 1\n",
            "Learning: 1\n"
          ]
        }
      ]
    },
    {
      "cell_type": "code",
      "source": [
        "# Initialize empty lists to store heights in inches and centimeters\n",
        "heights_in_inches = []\n",
        "heights_in_cm = []\n",
        "\n",
        "# Input: Number of customer heights to be entered\n",
        "num_customers = int(input(\"Enter the number of customers: \"))\n",
        "\n",
        "# Collect heights in inches using a loop\n",
        "print(\"Enter the heights (in inches):\")\n",
        "for _ in range(num_customers):\n",
        "    height = float(input())\n",
        "    heights_in_inches.append(height)\n",
        "\n",
        "# Method 1: Conversion using a nested interactive loop\n",
        "print(\"\\nUsing Nested Interactive Loop:\")\n",
        "for height in heights_in_inches:\n",
        "    heights_in_cm.append(round(height * 2.54, 2))\n",
        "print(\"Heights in centimeters:\", heights_in_cm)\n",
        "\n",
        "# Method 2: Conversion using list comprehensions\n",
        "print(\"\\nUsing List Comprehensions:\")\n",
        "converted_heights = [round(height * 2.54, 2) for height in heights_in_inches]\n",
        "print(\"Heights in centimeters:\", converted_heights)\n",
        ""
      ],
      "metadata": {
        "colab": {
          "base_uri": "https://localhost:8080/"
        },
        "id": "I52TgdKAULJW",
        "outputId": "c484c7ce-20e9-4c1a-d713-fdf56d195dbe"
      },
      "execution_count": 21,
      "outputs": [
        {
          "output_type": "stream",
          "name": "stdout",
          "text": [
            "Enter the number of customers: 2\n",
            "Enter the heights (in inches):\n",
            "12\n",
            "13\n",
            "\n",
            "Using Nested Interactive Loop:\n",
            "Heights in centimeters: [30.48, 33.02]\n",
            "\n",
            "Using List Comprehensions:\n",
            "Heights in centimeters: [30.48, 33.02]\n"
          ]
        }
      ]
    }
  ]
}